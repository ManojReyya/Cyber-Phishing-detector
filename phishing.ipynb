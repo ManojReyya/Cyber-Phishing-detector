{
  "nbformat": 4,
  "nbformat_minor": 0,
  "metadata": {
    "colab": {
      "provenance": []
    },
    "kernelspec": {
      "name": "python3",
      "display_name": "Python 3"
    },
    "language_info": {
      "name": "python"
    }
  },
  "cells": [
    {
      "cell_type": "code",
      "source": [
        "import pandas as pd\n",
        "import numpy as np\n",
        "import pickle\n",
        "from sklearn.datasets import fetch_openml\n",
        "from sklearn.model_selection import train_test_split\n",
        "from sklearn.ensemble import RandomForestClassifier\n",
        "from sklearn.preprocessing import LabelEncoder\n",
        "\n",
        "# Load dataset from OpenML\n",
        "dataset = fetch_openml(\"PhishingWebsites\", version=1, as_frame=True)\n",
        "df = dataset.frame\n",
        "\n",
        "# Convert target column to numeric\n",
        "y = df[\"Result\"].astype(int)\n",
        "\n",
        "# Convert categorical features to numeric using Label Encoding\n",
        "X = df.drop(columns=[\"Result\"])\n",
        "X = X.apply(LabelEncoder().fit_transform)  # Ensures all features are numeric\n",
        "\n",
        "# Save feature names\n",
        "feature_names = X.columns.to_list()\n",
        "\n",
        "# Split dataset\n",
        "X_train, X_test, y_train, y_test = train_test_split(X, y, test_size=0.2, random_state=42)\n",
        "\n",
        "# Train Random Forest model\n",
        "model = RandomForestClassifier(n_estimators=100, random_state=42)\n",
        "model.fit(X_train, y_train)\n",
        "\n",
        "# Save the model and feature names\n",
        "with open(\"model.pkl\", \"wb\") as file:\n",
        "    pickle.dump({\"model\": model, \"features\": feature_names}, file)\n",
        "\n",
        "print(\"✅ Model trained and saved as model.pkl\")\n"
      ],
      "metadata": {
        "id": "u_Jo7xcVAPZS",
        "colab": {
          "base_uri": "https://localhost:8080/"
        },
        "outputId": "67ac85ff-dedd-4608-bd1b-ab1124692d0c"
      },
      "execution_count": 15,
      "outputs": [
        {
          "output_type": "stream",
          "name": "stdout",
          "text": [
            "✅ Model trained and saved as model.pkl\n"
          ]
        }
      ]
    }
  ]
}